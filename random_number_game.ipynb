{
  "nbformat": 4,
  "nbformat_minor": 0,
  "metadata": {
    "colab": {
      "provenance": [],
      "authorship_tag": "ABX9TyP5338BM/jCjbfAHvyDzdYA",
      "include_colab_link": true
    },
    "kernelspec": {
      "name": "python3",
      "display_name": "Python 3"
    },
    "language_info": {
      "name": "python"
    }
  },
  "cells": [
    {
      "cell_type": "markdown",
      "metadata": {
        "id": "view-in-github",
        "colab_type": "text"
      },
      "source": [
        "<a href=\"https://colab.research.google.com/github/kevserbilgic/codinglerim/blob/main/random_number_game.ipynb\" target=\"_parent\"><img src=\"https://colab.research.google.com/assets/colab-badge.svg\" alt=\"Open In Colab\"/></a>"
      ]
    },
    {
      "cell_type": "code",
      "execution_count": null,
      "metadata": {
        "colab": {
          "base_uri": "https://localhost:8080/"
        },
        "id": "5mxhB4-8LX0W",
        "outputId": "d06fe90e-554e-4ff5-fcf1-8e362d178d17"
      },
      "outputs": [
        {
          "output_type": "stream",
          "name": "stdout",
          "text": [
            "welcome the amazing world of random numbers game!\n",
            "lets think a number between 1 and 100\n",
            "Can you guess it?\n",
            "enter your guess: 5\n",
            " Guess is too low\n",
            "enter your guess: 20\n",
            " Guess is too low\n",
            "enter your guess: 30\n",
            " Guess is too low\n",
            "enter your guess: 40\n",
            " Guess is too low\n",
            "enter your guess: 55\n",
            " Guess is too low\n",
            "enter your guess: 75\n",
            " Guess is too low\n",
            "enter your guess: 85\n",
            " Guess is too low\n",
            "enter your guess: 95\n",
            " Guess is too high\n",
            "enter your guess: 90\n",
            " Guess is too low\n",
            "enter your guess: 92\n",
            " Guess is too low\n",
            "enter your guess: 94\n",
            "you Win! It took you 11 attempts.\n"
          ]
        }
      ],
      "source": [
        "import random\n",
        "\n",
        "def main():\n",
        "  secret_number = random.randint(1,100)\n",
        "  attempts = 0 \n",
        "  print(\"welcome the amazing world of random numbers game!\")\n",
        "  print(\"lets think a number between 1 and 100\")\n",
        "  print(\"Can you guess it?\")\n",
        "  while True:\n",
        "    try:\n",
        "      user_guess = int(input(\"enter your guess: \"))\n",
        "    except ValueError:\n",
        "      print(\"invalid input. Please enter a number.\")\n",
        "      continue\n",
        "    attempts += 1\n",
        "    if user_guess > secret_number:\n",
        "      print(\" Guess is too high\")\n",
        "    elif user_guess < secret_number:\n",
        "      print(\" Guess is too low\")\n",
        "    else:\n",
        "      print(f\"you Win! It took you {attempts} attempts.\")\n",
        "      break \n",
        "\n",
        "if __name__== \"__main__\":\n",
        "  main()"
      ]
    }
  ]
}